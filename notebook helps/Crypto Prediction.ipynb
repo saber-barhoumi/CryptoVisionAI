{
 "cells": [
  {
   "cell_type": "code",
   "execution_count": 1,
   "id": "f2262955",
   "metadata": {
    "_kg_hide-input": true,
    "_kg_hide-output": true,
    "execution": {
     "iopub.execute_input": "2021-12-01T08:24:08.849692Z",
     "iopub.status.busy": "2021-12-01T08:24:08.848107Z",
     "iopub.status.idle": "2021-12-01T08:24:08.867529Z",
     "shell.execute_reply": "2021-12-01T08:24:08.868056Z",
     "shell.execute_reply.started": "2021-12-01T08:21:38.178955Z"
    },
    "papermill": {
     "duration": 0.043686,
     "end_time": "2021-12-01T08:24:08.868264",
     "exception": false,
     "start_time": "2021-12-01T08:24:08.824578",
     "status": "completed"
    },
    "tags": []
   },
   "outputs": [],
   "source": [
    "from IPython.core.display import display, HTML, Javascript\n",
    "notebook_theme = 'carrot'\n",
    "color_maps = {'turquoise': ['#1abc9c', '#e8f8f5', '#d1f2eb', '#a3e4d7', '#76d7c4', '#48c9b0', '#1abc9c', '#17a589', '#148f77', '#117864', '#0e6251'], 'green': ['#16a085', '#e8f6f3', '#d0ece7', '#a2d9ce', '#73c6b6', '#45b39d', '#16a085', '#138d75', '#117a65', '#0e6655', '#0b5345'], 'emerald': ['#2ecc71', '#eafaf1', '#d5f5e3', '#abebc6', '#82e0aa', '#58d68d', '#2ecc71', '#28b463', '#239b56', '#1d8348', '#186a3b'], 'nephritis': ['#27ae60', '#e9f7ef', '#d4efdf', '#a9dfbf', '#7dcea0', '#52be80', '#27ae60', '#229954', '#1e8449', '#196f3d', '#145a32'], 'peter': ['#3498db', '#ebf5fb', '#d6eaf8', '#aed6f1', '#85c1e9', '#5dade2', '#3498db', '#2e86c1', '#2874a6', '#21618c', '#1b4f72'], 'belize': ['#2980b9', '#eaf2f8', '#d4e6f1', '#a9cce3', '#7fb3d5', '#5499c7', '#2980b9', '#2471a3', '#1f618d', '#1a5276', '#154360'], 'amethyst': ['#9b59b6', '#f5eef8', '#ebdef0', '#d7bde2', '#c39bd3', '#af7ac5', '#9b59b6', '#884ea0', '#76448a', '#633974', '#512e5f'], 'wisteria': ['#8e44ad', '#f4ecf7', '#e8daef', '#d2b4de', '#bb8fce', '#a569bd', '#8e44ad', '#7d3c98', '#6c3483', '#5b2c6f', '#4a235a'], 'wet': ['#34495e', '#ebedef', '#d6dbdf', '#aeb6bf', '#85929e', '#5d6d7e', '#34495e', '#2e4053', '#283747', '#212f3c', '#1b2631'], 'midnight': ['#2c3e50', '#eaecee', '#d5d8dc', '#abb2b9', '#808b96', '#566573', '#2c3e50', '#273746', '#212f3d', '#1c2833', '#17202a'], 'sunflower': ['#f1c40f', '#fef9e7', '#fcf3cf', '#f9e79f', '#f7dc6f', '#f4d03f', '#f1c40f', '#d4ac0d', '#b7950b', '#9a7d0a', '#7d6608'], 'orange': ['#f39c12', '#fef5e7', '#fdebd0', '#fad7a0', '#f8c471', '#f5b041', '#f39c12', '#d68910', '#b9770e', '#9c640c', '#7e5109'], 'carrot': ['#e67e22', '#fdf2e9', '#fae5d3', '#f5cba7', '#f0b27a', '#eb984e', '#e67e22', '#ca6f1e', '#af601a', '#935116', '#784212'], 'pumpkin': ['#d35400', '#fbeee6', '#f6ddcc', '#edbb99', '#e59866', '#dc7633', '#d35400', '#ba4a00', '#a04000', '#873600', '#6e2c00'], 'alizarin': ['#e74c3c', '#fdedec', '#fadbd8', '#f5b7b1', '#f1948a', '#ec7063', '#e74c3c', '#cb4335', '#b03a2e', '#943126', '#78281f'], 'pomegranate': ['#c0392b', '#f9ebea', '#f2d7d5', '#e6b0aa', '#d98880', '#cd6155', '#c0392b', '#a93226', '#922b21', '#7b241c', '#641e16'], 'clouds': ['#ecf0f1', '#fdfefe', '#fbfcfc', '#f7f9f9', '#f4f6f7', '#f0f3f4', '#ecf0f1', '#d0d3d4', '#b3b6b7', '#979a9a', '#7b7d7d'], 'silver': ['#bdc3c7', '#f8f9f9', '#f2f3f4', '#e5e7e9', '#d7dbdd', '#cacfd2', '#bdc3c7', '#a6acaf', '#909497', '#797d7f', '#626567'], 'concrete': ['#95a5a6', '#f4f6f6', '#eaeded', '#d5dbdb', '#bfc9ca', '#aab7b8', '#95a5a6', '#839192', '#717d7e', '#5f6a6a', '#4d5656'], 'asbestos': ['#7f8c8d', '#f2f4f4', '#e5e8e8', '#ccd1d1', '#b2babb', '#99a3a4', '#7f8c8d', '#707b7c', '#616a6b', '#515a5a', '#424949']}\n",
    "color_maps = {i: color_maps[i] for i in color_maps if i not in ['clouds', 'silver', 'concrete', 'asbestos', 'wet asphalt', 'midnight blue', 'wet']}\n",
    "\n",
    "CMAP = 'Oranges'\n",
    "prompt = '#1DBCCD'\n",
    "main_color = '#E58F65' # color_maps[notebook_theme]\n",
    "strong_main_color = '#EB9514' # = color_maps[notebook_theme] \n",
    "custom_colors = [strong_main_color, main_color]\n",
    "\n",
    "\n",
    "import os\n",
    "if not os.path.exists(\"../input/g-research-crypto-forecasting/\"): os.chdir('/t/Datasets/kaggle_crypto/internal')"
   ]
  },
  {
   "cell_type": "markdown",
   "id": "f56c5f8f",
   "metadata": {
    "_cell_guid": "42a2c92b-00e6-4c13-b99e-408266d1b964",
    "_uuid": "9b3904ae-5fd7-432b-a10a-1a2446fbcc4b",
    "papermill": {
     "duration": 0.016029,
     "end_time": "2021-12-01T08:24:08.902307",
     "exception": false,
     "start_time": "2021-12-01T08:24:08.886278",
     "status": "completed"
    },
    "tags": []
   },
   "source": [
    "<br><br>\n",
    "<div>    \n",
    "<!--     <div style = \"float:left; width:55%; overflow:hidden;\">         -->\n",
    "        <center><img src=\"https://i.ibb.co/hHpTy3c/g-research-logo6.png\" style = \"max-height:300px;\"></center> \n",
    "<!--     </div> -->\n",
    "<!--     <div style = \"float:right; width:35%; overflow:hidden;\"> -->\n",
    "<!--         <img src=\"img/meditation/Meditation3.gif\">  -->\n",
    "<!--     </div> -->\n",
    "</div>"
   ]
  },
  {
   "cell_type": "markdown",
   "id": "297ef2d6",
   "metadata": {
    "_cell_guid": "3208562a-4f7a-45d5-b8e2-67da427cd906",
    "_uuid": "d7276e81-829f-4be5-967d-0a641fb1adbf",
    "papermill": {
     "duration": 0.015617,
     "end_time": "2021-12-01T08:24:08.933824",
     "exception": false,
     "start_time": "2021-12-01T08:24:08.918207",
     "status": "completed"
    },
    "tags": []
   },
   "source": [
    "<hr>"
   ]
  },
  {
   "cell_type": "markdown",
   "id": "9ccbdc2b",
   "metadata": {
    "_cell_guid": "241ce292-edca-4688-a665-c6321e80b438",
    "_uuid": "79576405-5d2f-465f-bb01-10eee623172c",
    "papermill": {
     "duration": 0.015462,
     "end_time": "2021-12-01T08:24:08.965016",
     "exception": false,
     "start_time": "2021-12-01T08:24:08.949554",
     "status": "completed"
    },
    "tags": []
   },
   "source": [
    "<div>    \n",
    "    <div style = \"float:left; width:55%; overflow:hidden;\">        \n",
    "        <br><br><br><br>        \n",
    "        <span style = \"float:right;\">\n",
    "        <h2>🔥🔥 Crypto Prediction: Xgboost Regressor 🔥🔥</h2>\n",
    "        <p>G-Research Crypto Forecasting Competition</p>\n",
    "        <br>\n",
    "        <b></b>\n",
    "        <b>\n",
    "        - 🌎 <a href=\"https://www.kaggle.com/c/g-research-crypto-forecasting/discussion/284903\">Discussion Thread</a>\n",
    "        <br>\n",
    "        - 🇰 <a href=\"https://www.kaggle.com/c/g-research-crypto-forecasting/discussion/285726\">The dataset</a>\n",
    "        </b>            \n",
    "        </span>\n",
    "    </div>\n",
    "    <div style=\"float:right; width:35%; max-height:300px; overflow: hidden;\">        \n",
    "        <img src=\"https://i.ibb.co/9YFyhT8/Bitcoin2.gif\" style = \"max-height: 300px;\">         \n",
    "    </div>\n",
    "</div>"
   ]
  },
  {
   "cell_type": "markdown",
   "id": "c497114e",
   "metadata": {
    "_cell_guid": "ca79faf7-ca73-4e9b-8552-be96bdc881f9",
    "_uuid": "4e428101-c977-488b-aa10-fe96d228224f",
    "papermill": {
     "duration": 0.016127,
     "end_time": "2021-12-01T08:24:08.996958",
     "exception": false,
     "start_time": "2021-12-01T08:24:08.980831",
     "status": "completed"
    },
    "tags": []
   },
   "source": [
    "<span id=\"introduction\"></span>\n",
    "<hr>"
   ]
  },
  {
   "cell_type": "markdown",
   "id": "3fe02a7b",
   "metadata": {
    "_cell_guid": "8af163ff-915a-4fae-aefe-6447e64952e5",
    "_uuid": "b328cc9e-a536-4347-beed-d033e9f5ac6a",
    "papermill": {
     "duration": 0.015571,
     "end_time": "2021-12-01T08:24:09.028245",
     "exception": false,
     "start_time": "2021-12-01T08:24:09.012674",
     "status": "completed"
    },
    "tags": []
   },
   "source": [
    ">### 🔥🔥 Crypto Prediction: Xgboost Regressor 🔥🔥\n",
    ">\n",
    "> **Just a simple pipeline going from zero to a valid submission**\n",
    ">\n",
    "> We train one `XGBRegressor` for each asset over a very very naive set of features (the input dataframe `['Count', 'Open', 'High', 'Low', 'Close', 'Volume', 'VWAP']`), we get the predictions correctly using the iterator and we submit. No validation for now, no cross validation... nothing at all lol: just the bare pipeline!\n",
    ">\n",
    ">\n",
    ">This notebook follows the ideas presented in my \"Initial Thoughts\" [here][1].\n",
    "\n",
    "[1]: https://www.kaggle.com/c/g-research-crypto-forecasting/discussion/284903\n",
    "[2]: https://www.kaggle.com/yamqwe/let-s-talk-validation-grouptimeseriessplit\n",
    "\n",
    "<div class=\"alert\">\n",
    "<b>References:</b>\n",
    "<ul>\n",
    "    <li><a href = \"https://www.kaggle.com/c/g-research-crypto-forecasting/discussion/285726\">Dataset Thread</a></li>\n",
    "    <li><a href = \"https://www.kaggle.com/c/g-research-crypto-forecasting/discussion/284903\">Initial Thoughts Thread\n",
    "</a></li>\n",
    "    <li><a href = \"https://www.kaggle.com/yamqwe/let-s-talk-validation-grouptimeseriessplit\">Validation Thread\n",
    "</a></li>\n",
    "</ul>\n",
    "</div>"
   ]
  },
  {
   "cell_type": "markdown",
   "id": "8bc5146b",
   "metadata": {
    "_cell_guid": "3208562a-4f7a-45d5-b8e2-67da427cd906",
    "_uuid": "d7276e81-829f-4be5-967d-0a641fb1adbf",
    "papermill": {
     "duration": 0.016073,
     "end_time": "2021-12-01T08:24:09.060490",
     "exception": false,
     "start_time": "2021-12-01T08:24:09.044417",
     "status": "completed"
    },
    "tags": []
   },
   "source": [
    "# <span class=\"title-section w3-xxlarge\" id=\"outline\">Table Of Content 📑</span>\n",
    "<hr >"
   ]
  },
  {
   "cell_type": "markdown",
   "id": "225e5019",
   "metadata": {
    "_cell_guid": "d70815a1-3398-43b2-be85-2230fffd89a9",
    "_uuid": "e9b980c5-036c-4e25-992b-115169a95ba4",
    "papermill": {
     "duration": 0.015406,
     "end_time": "2021-12-01T08:24:09.091568",
     "exception": false,
     "start_time": "2021-12-01T08:24:09.076162",
     "status": "completed"
    },
    "tags": []
   },
   "source": [
    "#### Table Of Content\n",
    "\n",
    "1. [📝 Introduction](#introduction)\n",
    "\n",
    "2. [📑 Table Of Content](#outline) \n",
    "\n",
    "3. [🤿 Diving into the Data](#diving) \n",
    "\n",
    "4. [📚 Imports](#imports) \n",
    "\n",
    "5. [🏋️ Training](#training)\n",
    "\n",
    "6. [🇰 Submit to Kaggle](#submit)"
   ]
  },
  {
   "cell_type": "markdown",
   "id": "1756452d",
   "metadata": {
    "_cell_guid": "310c5bce-3fab-4a82-b70e-d5e8a0e5e594",
    "_uuid": "ce509f90-2ae9-4ea3-94ad-39479b72ca12",
    "papermill": {
     "duration": 0.015461,
     "end_time": "2021-12-01T08:24:09.123088",
     "exception": false,
     "start_time": "2021-12-01T08:24:09.107627",
     "status": "completed"
    },
    "tags": []
   },
   "source": [
    "# <span class=\"title-section w3-xxlarge\" id=\"outline\">Diving into the Data 🤿</span>\n",
    "<hr >"
   ]
  },
  {
   "cell_type": "markdown",
   "id": "72eccab9",
   "metadata": {
    "_cell_guid": "ca6da936-954f-427b-af0c-f04517c4d4ed",
    "_uuid": "a91494a0-a071-49e5-bcc0-9c7b7566ad75",
    "papermill": {
     "duration": 0.015396,
     "end_time": "2021-12-01T08:24:09.154111",
     "exception": false,
     "start_time": "2021-12-01T08:24:09.138715",
     "status": "completed"
    },
    "tags": []
   },
   "source": [
    "\n",
    "#### **<span>Dataset Structure</span>**\n",
    "\n",
    "> **train.csv** - The training set\n",
    "> \n",
    "> 1.  timestamp - A timestamp for the minute covered by the row.\n",
    "> 2.  Asset_ID - An ID code for the cryptoasset.\n",
    "> 3.  Count - The number of trades that took place this minute.\n",
    "> 4.  Open - The USD price at the beginning of the minute.\n",
    "> 5.  High - The highest USD price during the minute.\n",
    "> 6.  Low - The lowest USD price during the minute.\n",
    "> 7.  Close - The USD price at the end of the minute.\n",
    "> 8.  Volume - The number of cryptoasset u units traded during the minute.\n",
    "> 9.  VWAP - The volume-weighted average price for the minute.\n",
    "> 10. Target - 15 minute residualized returns. See the 'Prediction and Evaluation section of this notebook for details of how the target is calculated.\n",
    "> 11. Weight - Weight, defined by the competition hosts [here](https://www.kaggle.com/cstein06/tutorial-to-the-g-research-crypto-competition)\n",
    "> 12. Asset_Name - Human readable Asset name.\n",
    "> \n",
    ">\n",
    "> **example_test.csv** - An example of the data that will be delivered by the time series API.\n",
    "> \n",
    "> **example_sample_submission.csv** - An example of the data that will be delivered by the time series API. The data is just copied from train.csv.\n",
    "> \n",
    "> **asset_details.csv** - Provides the real name and of the cryptoasset for each Asset_ID and the weight each cryptoasset receives in the metric.\n",
    "> \n",
    "> **supplemental_train.csv** - After the submission period is over this file's data will be replaced with cryptoasset prices from the submission period. In the Evaluation phase, the train, train supplement, and test set will be contiguous in time, apart from any missing data. The current copy, which is just filled approximately the right amount of data from train.csv is provided as a placeholder.\n",
    ">\n",
    "> - 📌 There are 14 coins in the dataset\n",
    ">\n",
    "> - 📌 There are 4 years  in the [full] dataset"
   ]
  },
  {
   "cell_type": "markdown",
   "id": "5b5da9a1",
   "metadata": {
    "papermill": {
     "duration": 0.015395,
     "end_time": "2021-12-01T08:24:09.185414",
     "exception": false,
     "start_time": "2021-12-01T08:24:09.170019",
     "status": "completed"
    },
    "tags": []
   },
   "source": [
    "<center><img src=\"https://i.ibb.co/8bvJY8B/xgboost-logo.png\" height=250 width=250></center>\n",
    "<hr>\n",
    "<center>XGBoost = 🌳 + 🧓🏻 + 💪🏻</center>"
   ]
  },
  {
   "cell_type": "markdown",
   "id": "8eb7517a",
   "metadata": {
    "_cell_guid": "347324aa-490a-4556-bcc4-36379bdbec7c",
    "_uuid": "03824ce3-fc08-4d19-926d-27edbb773466",
    "papermill": {
     "duration": 0.015401,
     "end_time": "2021-12-01T08:24:09.216569",
     "exception": false,
     "start_time": "2021-12-01T08:24:09.201168",
     "status": "completed"
    },
    "tags": []
   },
   "source": [
    "# <span class=\"title-section w3-xxlarge\" id=\"outline\">Libraries 📚</span>\n",
    "<hr>"
   ]
  },
  {
   "cell_type": "markdown",
   "id": "b0c5705b",
   "metadata": {
    "papermill": {
     "duration": 0.015533,
     "end_time": "2021-12-01T08:24:09.247634",
     "exception": false,
     "start_time": "2021-12-01T08:24:09.232101",
     "status": "completed"
    },
    "tags": []
   },
   "source": [
    "XGBoost is a favorite choice on kaggle and it doesn't look like it is going anywhere! \n",
    "It is basiclly the a version of gradient boosting machines framework that made the approach so popular.\n",
    "\n",
    "**It is usually included in winning ensembles on Kaggle when solving a tabular problem**\n",
    "\n",
    "XGBoost algorithm provides large range of hyperparameters. In order to get the best performance out of it, we need to know to tune them.\n",
    "\n",
    "><h4>TL;DR: What makes XGBoost great:</h4>\n",
    ">\n",
    ">1. XGBoost was the first wide-spread GBM framework so it has \"more mileage\" then all other frameworks.\n",
    ">2. Easy to use \n",
    ">3. When using GPU it is usually faster than nearly all other gradient boosting algorithms that use GPU.\n",
    ">4. A very powerful gradient boosting. \n",
    "\n",
    "<h4>Leaf growth in XGBoost</h4>\n",
    "\n",
    "XGboost splits up to the specified max_depth hyperparameter and then starts pruning the tree backwards and removes splits beyond which there is no positive gain. It uses this approach since sometimes a split of no loss reduction may be followed by a split with loss reduction. XGBoost can also perform leaf-wise tree growth (as LightGBM).\n",
    "\n",
    "Normally it is impossible to enumerate all the possible tree structures q. A greedy algorithm that starts from a single leaf and iteratively adds branches to the tree is used instead. Assume that I_L and I_R are the instance sets of left and right nodes after the split. Then the loss reduction after the split is given by,\n",
    "\n",
    "![](https://i.imgur.com/jzyLh81.png)\n",
    "\n",
    "<h4>XGBoost vs LightGBM</h4>\n",
    "\n",
    "LightGBM uses a novel technique of Gradient-based One-Side Sampling (GOSS) to filter out the data instances for finding a split value while XGBoost uses pre-sorted algorithm & Histogram-based algorithm for computing the best split. Here instances mean observations/samples.\n",
    "\n",
    "Let's see how pre-sorting splitting works-\n",
    "\n",
    "- For each node, enumerate over all features\n",
    "\n",
    "- For each feature, sort the instances by feature value\n",
    "\n",
    "- Use a linear scan to decide the best split along that feature basis information gain\n",
    "\n",
    "- Take the best split solution along all the features\n",
    "\n",
    "In simple terms, Histogram-based algorithm splits all the data points for a feature into discrete bins and uses these bins to find the split value of histogram. While, it is efficient than pre-sorted algorithm in training speed which enumerates all possible split points on the pre-sorted feature values, it is still behind GOSS in terms of speed.\n",
    "\n",
    "<h4>XGBoost Model Parameters</h4>\n",
    "\n",
    ">For an exhaustive overview of all parameters [see here](https://www.analyticsvidhya.com/blog/2016/03/complete-guide-parameter-tuning-xgboost-with-codes-python/)\n",
    "\n",
    "**objective [default=reg:linear]**\n",
    "\n",
    "This defines the loss function to be minimized. Mostly used values are:\n",
    "\n",
    "- binary:logistic –logistic regression for binary classification, returns predicted probability (not class)\n",
    "\n",
    "- multi:softmax –multiclass classification using the softmax objective, returns predicted class (not probabilities)\n",
    "you also need to set an additional num_class (number of classes) parameter defining the number of unique classes\n",
    "\n",
    "- multi:softprob –same as softmax, but returns predicted probability of each data point belonging to each class.\n",
    "\n",
    "**eval_metric [ default according to objective ]**\n",
    "\n",
    "The metric to be used for validation data. The default values are rmse for regression and error for classification.\n",
    "Typical values are:\n",
    "\n",
    "- rmse – root mean square error\n",
    "\n",
    "- mae – mean absolute error\n",
    "\n",
    "- logloss – negative log-likelihood\n",
    "\n",
    "- error – Binary classification error rate (0.5 threshold)\n",
    "\n",
    "- merror – Multiclass classification error rate\n",
    "\n",
    "- mlogloss – Multiclass logloss\n",
    "\n",
    "- auc: Area under the curve\n",
    "\n",
    "\n",
    "**eta [default=0.3]**\n",
    "\n",
    "- Analogous to learning rate in GBM.\n",
    "- Makes the model more robust by shrinking the weights on each step.\n",
    "- Typical final values to be used: 0.01-0.2\n",
    "\n",
    "**colsample_bytree**:  We can create a random sample of the features (or columns) to use prior to creating each decision tree in the boosted model. That is, tuning Column Sub-sampling in XGBoost By Tree. This is controlled by the colsample_bytree parameter. The default value is 1.0 meaning that all columns are used in each decision tree. A fraction (e.g. 0.6) means a fraction of columns to be subsampled. We can evaluate values for colsample_bytree between 0.1 and 1.0 incrementing by 0.1.\n",
    "\n",
    "<h3>Regularization in XGBoost</h3>\n",
    "\n",
    "XGBoost adds built-in regularization to achieve accuracy gains beyond gradient boosting. Regularization is the process of adding information to reduce variance and prevent overfitting.\n",
    "\n",
    "Although data may be regularized through hyperparameter fine-tuning, regularized algorithms may also be attempted. For example, Ridge and Lasso are regularized machine learning alternatives to LinearRegression.\n",
    "\n",
    "XGBoost includes regularization as part of the learning objective, as contrasted with gradient boosting and random forests. The regularized parameters penalize complexity and smooth out the final weights to prevent overfitting. XGBoost is a regularized version of gradient boosting.\n",
    "\n",
    "Mathematically, XGBoost's learning objective may be defined as follows:\n",
    "\n",
    "$$obj(θ) = l(θ) + Ω (θ)$$\n",
    "\n",
    "Here, **l(θ)**  is the loss function, which is the Mean Squared Error (MSE) for regression, or the log loss for classification, and **Ω (θ)** is the regularization function, a penalty term to prevent over-fitting. Including a regularization term as part of the objective function distinguishes XGBoost from most tree ensembles.\n",
    "\n",
    "The learning objective for the th boosted tree can now be rewritten as follows:\n",
    "\n",
    "![img](https://i.imgur.com/IRNCrvM.png)\n",
    "\n",
    "**reg_alpha and reg_lambda** : First note the loss function is defined as\n",
    "\n",
    "![img](https://i.imgur.com/aw1Hod9.png)\n",
    "\n",
    ">So the above is how the regularized objective function looks like if you want to allow for the inclusion of a L1 and a L2 parameter in the same model\n",
    "\n",
    "`reg_alpha` and `reg_lambda` control the L1 and L2 regularization terms, which in this case limit how extreme the weights at the leaves can become. Higher values of alpha mean more L1 regularization. See the documentation [here](http://xgboost.readthedocs.io/en/latest///parameter.html#parameters-for-tree-booster).\n",
    "\n",
    "Since L1 regularization in GBDTs is applied to leaf scores rather than directly to features as in logistic regression, it actually serves to reduce the depth of trees. This in turn will tend to reduce the impact of less-predictive features. We might think of L1 regularization as more aggressive against less-predictive features than L2 regularization.\n",
    "\n",
    "These two regularization terms have different effects on the weights; L2 regularization (controlled by the lambda term) encourages the weights to be small, whereas L1 regularization (controlled by the alpha term) encourages sparsity — so it encourages weights to go to 0. This is helpful in models such as logistic regression, where you want some feature selection, but in decision trees we’ve already selected our features, so zeroing their weights isn’t super helpful. For this reason, I found setting a high lambda value and a low (or 0) alpha value to be the most effective when regularizing.\n",
    "\n",
    ">[From this Paper](https://arxiv.org/pdf/1603.02754.pdf)\n",
    "\n",
    "\n",
    "<div class=\"alert alert-block alert-info\">\n",
    "<b>Read More:</b>\n",
    "<ul>\n",
    "    <li><a href = \"https://github.com/dmlc/xgboost\">XGBoost Github Documentation</a></li>\n",
    "    <li><a href = \"https://xgboost.readthedocs.io/en/stable/parameter.html\">XGBoost Parameters</a></li>\n",
    "    <li><a href = \"https://xgboost.readthedocs.io/en/stable/\">Official Documentation</a></li>    \n",
    "</ul>\n",
    "</div>\n",
    "\n",
    "____\n",
    "\n",
    "<h3>All Parameters Overview</h3>\n",
    "\n",
    "____\n",
    "\n",
    "Before diving into the actual parameters of XGBoost, Let's define three types of parameters: General Parameters, Booster Parameters and Task Parameters.\n",
    "\n",
    "1. **General parameters**  Relate to chosing which booster algorithm we will be using, usually tree or linear model.\n",
    "\n",
    "2. **Booster parameters**  Are the actual parameters of the booster you have chosen.\n",
    "\n",
    "3. **Task parameters**  Tells the framework what problem are we trying to solve. For example, regression tasks may use different parameters with ranking tasks.\n",
    "\n",
    "____\n",
    "\n",
    "\n",
    "<h3>How to tune XGBoost like a boss?</h3>\n",
    "\n",
    "Hyperparameters tuning guide:\n",
    "\n",
    "<h4>General Parameters</h4>\n",
    "\n",
    "1. **booster**  [default= gbtree ] \n",
    "  - Which booster to use. Can be gbtree, gblinear or dart; \n",
    "  - gbtree and dart use tree based models while gblinear uses linear functions.\n",
    "\n",
    "2. **verbosity** [default=1]\n",
    "  - Verbosity of printing messages. Valid values are 0 (silent), 1 (warning), 2 (info), 3 (debug). \n",
    "  - Sometimes XGBoost tries to change configurations based on heuristics, which is displayed as warning message. \n",
    "  - If there’s unexpected behaviour, please try to increase value of verbosity.\n",
    "\n",
    "3. **nthread**  [default to maximum number of threads available if not set]\n",
    "  - Number of parallel threads used to run XGBoost. When choosing it, please keep thread contention and hyperthreading in mind.\n",
    "\n",
    "____\n",
    "\n",
    "\n",
    "<h4>Tree Booster Parameters</h4>\n",
    "\n",
    "1. **eta [default=0.3, ]**\n",
    "  - alias: learning_rate\n",
    "  - Step size shrinkage used in update to prevents overfitting.\n",
    "  - After each boosting step, we can directly get the weights of new features\n",
    "  - It makes the model more robust by shrinking the weights on each step.\n",
    "  - range: [0,1]\n",
    "\n",
    "2. **gamma [default=0]**\n",
    "  - Minimum loss reduction required to make a further partition on a leaf node of the tree. \n",
    "  - The larger gamma is, the more conservative the algorithm will be.\n",
    "  - range: [0,∞]\n",
    "\n",
    "3. **max_depth [default=6]**\n",
    "\n",
    "  - Maximum depth of a tree. Increasing this value will make the model more complex and more likely to overfit. \n",
    "  - 0 is only accepted in lossguided growing policy when tree_method is set as hist or gpu_hist and it indicates no limit on depth. \n",
    "  - Beware that XGBoost aggressively consumes memory when training a deep tree.\n",
    "  - range: [0,∞] )\n",
    "\n",
    "4. **min_child_weight [default=1]**\n",
    "\n",
    "  - its Minimum sum of instance weight (hessian) needed in a child. I\n",
    "  - if the tree partition step results in a leaf node with the sum of instance weight less than min_child_weight, then the building process will give up further partitioning. \n",
    "  - In linear regression task, this simply corresponds to minimum number of instances needed to be in each node. \n",
    "  - The larger min_child_weight is, the more conservative the algorithm will be.\n",
    "  - range: [0,∞]\n",
    "\n",
    "5. **max_delta_step [default=0]**\n",
    "\n",
    "  - Maximum delta step we allow each leaf output to be. \n",
    "  - If the value is set to 0, it means there is no constraint. \n",
    "  - If it is set to a positive value, it can help making the update step more conservative. Usually this parameter is not needed, but it might help in logistic regression when class is extremely imbalanced. Set it to value of 1-10 might help control the update.\n",
    "  - range: [0,∞]\n",
    "\n",
    "6. **subsample [default=1]**\n",
    "\n",
    "  - It denotes the fraction of observations to be randomly samples for each tree.\n",
    "  - Subsample ratio of the training instances.\n",
    "  - Setting it to 0.5 means that XGBoost would randomly sample half of the training data prior to growing trees. - This will prevent overfitting.\n",
    "  - Subsampling will occur once in every boosting iteration.\n",
    "  - Lower values make the algorithm more conservative and prevents overfitting but too small alues might lead to under-fitting.\n",
    "  - typical values: 0.5-1\n",
    "  - range: (0,1]\n",
    "\n",
    "7. **sampling_method [default= uniform]**\n",
    "\n",
    "  - The method to use to sample the training instances.\n",
    "  - **uniform:** each training instance has an equal probability of being selected. Typically set subsample >= 0.5 for good results.\n",
    "  - **gradient_based:**  the selection probability for each training instance is proportional to the regularized absolute value of gradients \n",
    "\n",
    "8. **colsample_bytree, colsample_bylevel, colsample_bynode [default=1]**\n",
    "\n",
    "><h4>This is a family of parameters for subsampling of columns.</h4>\n",
    ">\n",
    ">**All colsample_by**  parameters have a range of (0, 1], the default value of 1, and specify the fraction of columns to be subsampled.\n",
    ">\n",
    ">**lsample_bytree**s the subsample ratio of columns when constructing each tree. Subsampling occurs once for every tree constructed.\n",
    ">\n",
    ">**colsample_bylevel**  is the subsample ratio of columns for each level. Subsampling occurs once for every new depth level reached in a tree. Columns are subsampled from the set of columns chosen for the current tree.\n",
    ">\n",
    ">**colsample_bynode**  is the subsample ratio of columns for each node (split). Subsampling occurs once every time a new split is evaluated. Columns are subsampled from the set of columns chosen for the current level.\n",
    ">\n",
    ">**colsample_by**  parameters work cumulatively. For instance, the combination **{'colsample_bytree':0.5, 'colsample_bylevel':0.5, 'colsample_bynode':0.5}** with 64 features will leave 8 features to choose from at each split.\n",
    ">\n",
    "\n",
    "9. **lambda [default=1]**\n",
    "  - alias: reg_lambda\n",
    "  - L2 regularization term on weights. \n",
    "  - Increasing this value will make model more conservative.\n",
    "\n",
    "10. **alpha [default=0]**\n",
    "  - alias: reg_alpha\n",
    "  - L1 regularization term on weights.\n",
    "  - Increasing this value will make model more conservative.\n",
    "\n",
    "11. **grow_policy [default= depthwise]**\n",
    "  - Controls a way new nodes are added to the tree.\n",
    "  - Currently supported only if tree_method is set to hist or gpu_hist.\n",
    "  - **Choices:*  - depthwise, lossguide\n",
    "  - **depthwise:*  - split at nodes closest to the root.\n",
    "  - **lossguide:*  - split at nodes with highest loss change.\n",
    "\n",
    "12. **max_leaves [default=0]**\n",
    "  - Maximum number of nodes to be added. \n",
    "  - Only relevant when grow_policy=lossguide is set.\n",
    "\n",
    "[Read More](https://xgboost.readthedocs.io/en/latest/parameter.html)\n",
    "\n",
    "____\n",
    "\n",
    "\n",
    "\n",
    "<h4>Task Parameters</h4>\n",
    "\n",
    "1. **objective [default=reg:squarederror]**\n",
    "\n",
    "It defines the loss function to be minimized. Most commonly used values are given below -\n",
    "\n",
    "  - reg:squarederror : regression with squared loss.\n",
    "\n",
    "  - reg:squaredlogerror: regression with squared log loss 1/2[log(pred+1)−log(label+1)]2. - All input labels are required to be greater than -1.\n",
    "\n",
    "  - reg:logistic : logistic regression\n",
    "\n",
    "  - binary:logistic : logistic regression for binary classification, output probability\n",
    "\n",
    "  - binary:logitraw: logistic regression for binary classification, output score before logistic transformation\n",
    "\n",
    "  - binary:hinge : hinge loss for binary classification. This makes predictions of 0 or 1, rather than producing probabilities.\n",
    "\n",
    "  - multi:softmax : set XGBoost to do multiclass classification using the softmax objective, you also need to set num_class(number of classes)\n",
    "\n",
    "  - multi:softprob : same as softmax, but output a vector of ndata nclass, which can be further reshaped to ndata nclass matrix. The result contains predicted probability of each data point belonging to each class.\n",
    "\n",
    "2. **eval_metric [default according to objective]**\n",
    "  - The metric to be used for validation data.\n",
    "  - The default values are rmse for regression, error for classification and mean average precision for ranking.\n",
    "  - We can add multiple evaluation metrics.\n",
    "  - Python users must pass the metrices as list of parameters pairs instead of map.\n",
    "  - The most common values are given below -\n",
    "\n",
    "   - rmse : root mean square error\n",
    "   - mae : mean absolute error\n",
    "   - logloss : negative log-likelihood\n",
    "   - error : Binary classification error rate (0.5 threshold). \n",
    "   - merror : Multiclass classification error rate.\n",
    "   - mlogloss : Multiclass logloss\n",
    "   - auc: Area under the curve\n",
    "   - aucpr : Area under the PR curve\n",
    "   \n",
    "   \n",
    "\n",
    "<div class=\"alert\">\n",
    "<b>Introduction Credits:</b>\n",
    "<ul>\n",
    "    <li><a href = \"https://www.kaggle.com/shivansh002/a-gentle-guide-on-xgboost-hyperparameters\">A Gentle Guide on XGBoost hyperparameters</a> By @shivansh002. Thank you @shivansh002 for a great introduction! </li>\n",
    "    <li><a href = \"https://www.kaggle.com/paulrohan2020/tutorial-lightgbm-xgboost-catboost-top-11\">Tutorial LightGBM + XGBoost + CatBoost</a> By @paulrohan2020. Thank you @paulrohan2020 for a great tutorial! </li>    \n",
    "</ul>\n",
    "</div>   "
   ]
  },
  {
   "cell_type": "code",
   "execution_count": 2,
   "id": "56c9e9db",
   "metadata": {
    "execution": {
     "iopub.execute_input": "2021-12-01T08:24:09.283923Z",
     "iopub.status.busy": "2021-12-01T08:24:09.283367Z",
     "iopub.status.idle": "2021-12-01T08:24:12.127355Z",
     "shell.execute_reply": "2021-12-01T08:24:12.128081Z",
     "shell.execute_reply.started": "2021-12-01T08:21:38.198480Z"
    },
    "papermill": {
     "duration": 2.865057,
     "end_time": "2021-12-01T08:24:12.128279",
     "exception": false,
     "start_time": "2021-12-01T08:24:09.263222",
     "status": "completed"
    },
    "tags": []
   },
   "outputs": [
    {
     "data": {
      "text/html": [
       "<style type='text/css'>\n",
       ".datatable table.frame { margin-bottom: 0; }\n",
       ".datatable table.frame thead { border-bottom: none; }\n",
       ".datatable table.frame tr.coltypes td {  color: #FFFFFF;  line-height: 6px;  padding: 0 0.5em;}\n",
       ".datatable .bool    { background: #DDDD99; }\n",
       ".datatable .object  { background: #565656; }\n",
       ".datatable .int     { background: #5D9E5D; }\n",
       ".datatable .float   { background: #4040CC; }\n",
       ".datatable .str     { background: #CC4040; }\n",
       ".datatable .time    { background: #40CC40; }\n",
       ".datatable .row_index {  background: var(--jp-border-color3);  border-right: 1px solid var(--jp-border-color0);  color: var(--jp-ui-font-color3);  font-size: 9px;}\n",
       ".datatable .frame tbody td { text-align: left; }\n",
       ".datatable .frame tr.coltypes .row_index {  background: var(--jp-border-color0);}\n",
       ".datatable th:nth-child(2) { padding-left: 12px; }\n",
       ".datatable .hellipsis {  color: var(--jp-cell-editor-border-color);}\n",
       ".datatable .vellipsis {  background: var(--jp-layout-color0);  color: var(--jp-cell-editor-border-color);}\n",
       ".datatable .na {  color: var(--jp-cell-editor-border-color);  font-size: 80%;}\n",
       ".datatable .sp {  opacity: 0.25;}\n",
       ".datatable .footer { font-size: 9px; }\n",
       ".datatable .frame_dimensions {  background: var(--jp-border-color3);  border-top: 1px solid var(--jp-border-color0);  color: var(--jp-ui-font-color3);  display: inline-block;  opacity: 0.6;  padding: 1px 10px 1px 5px;}\n",
       ".datatable .frame thead tr.colnames {  background-image: url('data:image/png;base64,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');  background-repeat: repeat-x;  background-size: 14px;  height: 28px;}\n",
       "</style>\n"
      ],
      "text/plain": [
       "<IPython.core.display.HTML object>"
      ]
     },
     "metadata": {},
     "output_type": "display_data"
    }
   ],
   "source": [
    "import traceback\n",
    "import numpy as np\n",
    "import pandas as pd\n",
    "import datatable as dt\n",
    "import gresearch_crypto\n",
    "from lightgbm import LGBMRegressor\n",
    "\n",
    "TRAIN_JAY = '../input/cryptocurrency-extra-data-binance-coin/orig_train.jay'\n",
    "ASSET_DETAILS_JAY = '../input/cryptocurrency-extra-data-binance-coin/orig_asset_details.jay'"
   ]
  },
  {
   "cell_type": "code",
   "execution_count": 3,
   "id": "352fee27",
   "metadata": {
    "execution": {
     "iopub.execute_input": "2021-12-01T08:24:12.171120Z",
     "iopub.status.busy": "2021-12-01T08:24:12.170457Z",
     "iopub.status.idle": "2021-12-01T08:24:31.671820Z",
     "shell.execute_reply": "2021-12-01T08:24:31.672251Z",
     "shell.execute_reply.started": "2021-12-01T08:21:41.079248Z"
    },
    "papermill": {
     "duration": 19.524596,
     "end_time": "2021-12-01T08:24:31.672414",
     "exception": false,
     "start_time": "2021-12-01T08:24:12.147818",
     "status": "completed"
    },
    "tags": []
   },
   "outputs": [
    {
     "name": "stdout",
     "output_type": "stream",
     "text": [
      "<class 'pandas.core.frame.DataFrame'>\n",
      "RangeIndex: 24236806 entries, 0 to 24236805\n",
      "Data columns (total 10 columns):\n",
      " #   Column     Dtype  \n",
      "---  ------     -----  \n",
      " 0   timestamp  int64  \n",
      " 1   Asset_ID   int64  \n",
      " 2   Count      float64\n",
      " 3   Open       float64\n",
      " 4   High       float64\n",
      " 5   Low        float64\n",
      " 6   Close      float64\n",
      " 7   Volume     float64\n",
      " 8   VWAP       float64\n",
      " 9   Target     float64\n",
      "dtypes: float64(8), int64(2)\n",
      "memory usage: 1.8 GB\n",
      "None\n"
     ]
    },
    {
     "data": {
      "text/html": [
       "<div>\n",
       "<style scoped>\n",
       "    .dataframe tbody tr th:only-of-type {\n",
       "        vertical-align: middle;\n",
       "    }\n",
       "\n",
       "    .dataframe tbody tr th {\n",
       "        vertical-align: top;\n",
       "    }\n",
       "\n",
       "    .dataframe thead th {\n",
       "        text-align: right;\n",
       "    }\n",
       "</style>\n",
       "<table border=\"1\" class=\"dataframe\">\n",
       "  <thead>\n",
       "    <tr style=\"text-align: right;\">\n",
       "      <th></th>\n",
       "      <th>timestamp</th>\n",
       "      <th>Asset_ID</th>\n",
       "      <th>Count</th>\n",
       "      <th>Open</th>\n",
       "      <th>High</th>\n",
       "      <th>Low</th>\n",
       "      <th>Close</th>\n",
       "      <th>Volume</th>\n",
       "      <th>VWAP</th>\n",
       "      <th>Target</th>\n",
       "    </tr>\n",
       "  </thead>\n",
       "  <tbody>\n",
       "    <tr>\n",
       "      <th>0</th>\n",
       "      <td>1514764860</td>\n",
       "      <td>2</td>\n",
       "      <td>40.0</td>\n",
       "      <td>2376.5800</td>\n",
       "      <td>2399.5000</td>\n",
       "      <td>2357.1400</td>\n",
       "      <td>2374.5900</td>\n",
       "      <td>19.233005</td>\n",
       "      <td>2373.116392</td>\n",
       "      <td>-0.004218</td>\n",
       "    </tr>\n",
       "    <tr>\n",
       "      <th>1</th>\n",
       "      <td>1514764860</td>\n",
       "      <td>0</td>\n",
       "      <td>5.0</td>\n",
       "      <td>8.5300</td>\n",
       "      <td>8.5300</td>\n",
       "      <td>8.5300</td>\n",
       "      <td>8.5300</td>\n",
       "      <td>78.380000</td>\n",
       "      <td>8.530000</td>\n",
       "      <td>-0.014399</td>\n",
       "    </tr>\n",
       "    <tr>\n",
       "      <th>2</th>\n",
       "      <td>1514764860</td>\n",
       "      <td>1</td>\n",
       "      <td>229.0</td>\n",
       "      <td>13835.1940</td>\n",
       "      <td>14013.8000</td>\n",
       "      <td>13666.1100</td>\n",
       "      <td>13850.1760</td>\n",
       "      <td>31.550062</td>\n",
       "      <td>13827.062093</td>\n",
       "      <td>-0.014643</td>\n",
       "    </tr>\n",
       "    <tr>\n",
       "      <th>3</th>\n",
       "      <td>1514764860</td>\n",
       "      <td>5</td>\n",
       "      <td>32.0</td>\n",
       "      <td>7.6596</td>\n",
       "      <td>7.6596</td>\n",
       "      <td>7.6567</td>\n",
       "      <td>7.6576</td>\n",
       "      <td>6626.713370</td>\n",
       "      <td>7.657713</td>\n",
       "      <td>-0.013922</td>\n",
       "    </tr>\n",
       "    <tr>\n",
       "      <th>4</th>\n",
       "      <td>1514764860</td>\n",
       "      <td>7</td>\n",
       "      <td>5.0</td>\n",
       "      <td>25.9200</td>\n",
       "      <td>25.9200</td>\n",
       "      <td>25.8740</td>\n",
       "      <td>25.8770</td>\n",
       "      <td>121.087310</td>\n",
       "      <td>25.891363</td>\n",
       "      <td>-0.008264</td>\n",
       "    </tr>\n",
       "  </tbody>\n",
       "</table>\n",
       "</div>"
      ],
      "text/plain": [
       "    timestamp  Asset_ID  Count        Open        High         Low  \\\n",
       "0  1514764860         2   40.0   2376.5800   2399.5000   2357.1400   \n",
       "1  1514764860         0    5.0      8.5300      8.5300      8.5300   \n",
       "2  1514764860         1  229.0  13835.1940  14013.8000  13666.1100   \n",
       "3  1514764860         5   32.0      7.6596      7.6596      7.6567   \n",
       "4  1514764860         7    5.0     25.9200     25.9200     25.8740   \n",
       "\n",
       "        Close       Volume          VWAP    Target  \n",
       "0   2374.5900    19.233005   2373.116392 -0.004218  \n",
       "1      8.5300    78.380000      8.530000 -0.014399  \n",
       "2  13850.1760    31.550062  13827.062093 -0.014643  \n",
       "3      7.6576  6626.713370      7.657713 -0.013922  \n",
       "4     25.8770   121.087310     25.891363 -0.008264  "
      ]
     },
     "execution_count": 3,
     "metadata": {},
     "output_type": "execute_result"
    }
   ],
   "source": [
    "df_train = dt.fread('../input/cryptocurrency-extra-data-binance-coin/orig_train.jay').to_pandas()\n",
    "print(df_train.info())\n",
    "df_train.head()"
   ]
  },
  {
   "cell_type": "code",
   "execution_count": 4,
   "id": "f01eea25",
   "metadata": {
    "execution": {
     "iopub.execute_input": "2021-12-01T08:24:31.711844Z",
     "iopub.status.busy": "2021-12-01T08:24:31.711359Z",
     "iopub.status.idle": "2021-12-01T08:24:31.732229Z",
     "shell.execute_reply": "2021-12-01T08:24:31.731746Z",
     "shell.execute_reply.started": "2021-12-01T08:22:01.651750Z"
    },
    "papermill": {
     "duration": 0.041878,
     "end_time": "2021-12-01T08:24:31.732338",
     "exception": false,
     "start_time": "2021-12-01T08:24:31.690460",
     "status": "completed"
    },
    "tags": []
   },
   "outputs": [
    {
     "name": "stdout",
     "output_type": "stream",
     "text": [
      "<class 'pandas.core.frame.DataFrame'>\n",
      "Int64Index: 14 entries, 1 to 8\n",
      "Data columns (total 3 columns):\n",
      " #   Column      Non-Null Count  Dtype  \n",
      "---  ------      --------------  -----  \n",
      " 0   Asset_ID    14 non-null     int64  \n",
      " 1   Weight      14 non-null     float64\n",
      " 2   Asset_Name  14 non-null     object \n",
      "dtypes: float64(1), int64(1), object(1)\n",
      "memory usage: 448.0+ bytes\n",
      "None\n"
     ]
    },
    {
     "data": {
      "text/html": [
       "<div>\n",
       "<style scoped>\n",
       "    .dataframe tbody tr th:only-of-type {\n",
       "        vertical-align: middle;\n",
       "    }\n",
       "\n",
       "    .dataframe tbody tr th {\n",
       "        vertical-align: top;\n",
       "    }\n",
       "\n",
       "    .dataframe thead th {\n",
       "        text-align: right;\n",
       "    }\n",
       "</style>\n",
       "<table border=\"1\" class=\"dataframe\">\n",
       "  <thead>\n",
       "    <tr style=\"text-align: right;\">\n",
       "      <th></th>\n",
       "      <th>Asset_ID</th>\n",
       "      <th>Weight</th>\n",
       "      <th>Asset_Name</th>\n",
       "    </tr>\n",
       "  </thead>\n",
       "  <tbody>\n",
       "    <tr>\n",
       "      <th>1</th>\n",
       "      <td>0</td>\n",
       "      <td>4.304065</td>\n",
       "      <td>Binance Coin</td>\n",
       "    </tr>\n",
       "    <tr>\n",
       "      <th>2</th>\n",
       "      <td>1</td>\n",
       "      <td>6.779922</td>\n",
       "      <td>Bitcoin</td>\n",
       "    </tr>\n",
       "    <tr>\n",
       "      <th>0</th>\n",
       "      <td>2</td>\n",
       "      <td>2.397895</td>\n",
       "      <td>Bitcoin Cash</td>\n",
       "    </tr>\n",
       "    <tr>\n",
       "      <th>10</th>\n",
       "      <td>3</td>\n",
       "      <td>4.406719</td>\n",
       "      <td>Cardano</td>\n",
       "    </tr>\n",
       "    <tr>\n",
       "      <th>13</th>\n",
       "      <td>4</td>\n",
       "      <td>3.555348</td>\n",
       "      <td>Dogecoin</td>\n",
       "    </tr>\n",
       "  </tbody>\n",
       "</table>\n",
       "</div>"
      ],
      "text/plain": [
       "    Asset_ID    Weight    Asset_Name\n",
       "1          0  4.304065  Binance Coin\n",
       "2          1  6.779922       Bitcoin\n",
       "0          2  2.397895  Bitcoin Cash\n",
       "10         3  4.406719       Cardano\n",
       "13         4  3.555348      Dogecoin"
      ]
     },
     "execution_count": 4,
     "metadata": {},
     "output_type": "execute_result"
    }
   ],
   "source": [
    "df_asset_details = dt.fread('../input/cryptocurrency-extra-data-binance-coin/orig_asset_details.jay').to_pandas().sort_values(\"Asset_ID\")\n",
    "print(df_asset_details.info())\n",
    "df_asset_details.head()"
   ]
  },
  {
   "cell_type": "markdown",
   "id": "35527608",
   "metadata": {
    "papermill": {
     "duration": 0.017932,
     "end_time": "2021-12-01T08:24:31.768691",
     "exception": false,
     "start_time": "2021-12-01T08:24:31.750759",
     "status": "completed"
    },
    "tags": []
   },
   "source": [
    "# Training"
   ]
  },
  {
   "cell_type": "markdown",
   "id": "3deef1a0",
   "metadata": {
    "papermill": {
     "duration": 0.01805,
     "end_time": "2021-12-01T08:24:31.805106",
     "exception": false,
     "start_time": "2021-12-01T08:24:31.787056",
     "status": "completed"
    },
    "tags": []
   },
   "source": [
    "**Feature Extraction**"
   ]
  },
  {
   "cell_type": "code",
   "execution_count": 5,
   "id": "77ceff8f",
   "metadata": {
    "execution": {
     "iopub.execute_input": "2021-12-01T08:24:31.847336Z",
     "iopub.status.busy": "2021-12-01T08:24:31.846658Z",
     "iopub.status.idle": "2021-12-01T08:24:31.911677Z",
     "shell.execute_reply": "2021-12-01T08:24:31.911227Z",
     "shell.execute_reply.started": "2021-12-01T08:22:01.679430Z"
    },
    "papermill": {
     "duration": 0.088734,
     "end_time": "2021-12-01T08:24:31.911784",
     "exception": false,
     "start_time": "2021-12-01T08:24:31.823050",
     "status": "completed"
    },
    "tags": []
   },
   "outputs": [],
   "source": [
    "import xgboost as xgb\n",
    "\n",
    "# Two new features from the competition tutorial\n",
    "def upper_shadow(df):\n",
    "    return df['High'] - np.maximum(df['Close'], df['Open'])\n",
    "\n",
    "def lower_shadow(df):\n",
    "    return np.minimum(df['Close'], df['Open']) - df['Low']\n",
    "\n",
    "# A utility function to build features from the original df\n",
    "# It works for rows to, so we can reutilize it.\n",
    "def get_features(df):\n",
    "    df_feat = df[['Count', 'Open', 'High', 'Low', 'Close', 'Volume', 'VWAP']].copy()\n",
    "    df_feat['Upper_Shadow'] = upper_shadow(df_feat)\n",
    "    df_feat['Lower_Shadow'] = lower_shadow(df_feat)\n",
    "    return df_feat"
   ]
  },
  {
   "cell_type": "markdown",
   "id": "acfbe5a5",
   "metadata": {
    "papermill": {
     "duration": 0.01761,
     "end_time": "2021-12-01T08:24:31.947748",
     "exception": false,
     "start_time": "2021-12-01T08:24:31.930138",
     "status": "completed"
    },
    "tags": []
   },
   "source": [
    "**Main Training Function**"
   ]
  },
  {
   "cell_type": "code",
   "execution_count": 6,
   "id": "15faa65a",
   "metadata": {
    "execution": {
     "iopub.execute_input": "2021-12-01T08:24:31.991196Z",
     "iopub.status.busy": "2021-12-01T08:24:31.989658Z",
     "iopub.status.idle": "2021-12-01T08:24:31.991803Z",
     "shell.execute_reply": "2021-12-01T08:24:31.992243Z",
     "shell.execute_reply.started": "2021-12-01T08:22:01.768218Z"
    },
    "papermill": {
     "duration": 0.026585,
     "end_time": "2021-12-01T08:24:31.992364",
     "exception": false,
     "start_time": "2021-12-01T08:24:31.965779",
     "status": "completed"
    },
    "tags": []
   },
   "outputs": [],
   "source": [
    "import xgboost as xgb\n",
    "def get_Xy_and_model_for_asset(df_train, asset_id):\n",
    "    df = df_train[df_train[\"Asset_ID\"] == asset_id]\n",
    "    \n",
    "    # TODO: Try different features here!\n",
    "    df_proc = get_features(df)\n",
    "    df_proc['y'] = df['Target']\n",
    "    df_proc = df_proc.dropna(how=\"any\")\n",
    "    \n",
    "    X = df_proc.drop(\"y\", axis=1)\n",
    "    y = df_proc[\"y\"]\n",
    "    \n",
    "    model = xgb.XGBRegressor(\n",
    "        n_estimators=500,\n",
    "        max_depth=11,\n",
    "        learning_rate=0.05,\n",
    "        subsample=0.9,\n",
    "        colsample_bytree=0.7,\n",
    "        missing=-999,\n",
    "        random_state=2020,\n",
    "        tree_method='gpu_hist'  # THE MAGICAL PARAMETER\n",
    "    )\n",
    "    model.fit(X, y)\n",
    "\n",
    "    return X, y, model"
   ]
  },
  {
   "cell_type": "markdown",
   "id": "ad71a415",
   "metadata": {
    "papermill": {
     "duration": 0.017756,
     "end_time": "2021-12-01T08:24:32.028025",
     "exception": false,
     "start_time": "2021-12-01T08:24:32.010269",
     "status": "completed"
    },
    "tags": []
   },
   "source": [
    "## Loop over all assets"
   ]
  },
  {
   "cell_type": "code",
   "execution_count": 7,
   "id": "bed719ce",
   "metadata": {
    "execution": {
     "iopub.execute_input": "2021-12-01T08:24:32.068105Z",
     "iopub.status.busy": "2021-12-01T08:24:32.067294Z",
     "iopub.status.idle": "2021-12-01T08:24:32.069312Z",
     "shell.execute_reply": "2021-12-01T08:24:32.069694Z",
     "shell.execute_reply.started": "2021-12-01T08:22:01.776775Z"
    },
    "papermill": {
     "duration": 0.024003,
     "end_time": "2021-12-01T08:24:32.069824",
     "exception": false,
     "start_time": "2021-12-01T08:24:32.045821",
     "status": "completed"
    },
    "tags": []
   },
   "outputs": [],
   "source": [
    "from time import time "
   ]
  },
  {
   "cell_type": "code",
   "execution_count": 8,
   "id": "013cde0e",
   "metadata": {
    "execution": {
     "iopub.execute_input": "2021-12-01T08:24:32.112224Z",
     "iopub.status.busy": "2021-12-01T08:24:32.111319Z",
     "iopub.status.idle": "2021-12-01T08:29:43.864726Z",
     "shell.execute_reply": "2021-12-01T08:29:43.864195Z"
    },
    "papermill": {
     "duration": 311.77723,
     "end_time": "2021-12-01T08:29:43.864868",
     "exception": false,
     "start_time": "2021-12-01T08:24:32.087638",
     "status": "completed"
    },
    "tags": []
   },
   "outputs": [
    {
     "name": "stdout",
     "output_type": "stream",
     "text": [
      "Training model for Binance Coin     (ID=0 )  time spent 22.85453152656555 \n",
      "Training model for Bitcoin          (ID=1 )  time spent 24.487799882888794 \n",
      "Training model for Bitcoin Cash     (ID=2 )  time spent 22.225205183029175 \n",
      "Training model for Cardano          (ID=3 )  time spent 23.98010277748108 \n",
      "Training model for Dogecoin         (ID=4 )  time spent 22.39237952232361 \n",
      "Training model for EOS.IO           (ID=5 )  time spent 23.971874237060547 \n",
      "Training model for Ethereum         (ID=6 )  time spent 23.84108567237854 \n",
      "Training model for Ethereum Classic (ID=7 )  time spent 24.20709991455078 \n",
      "Training model for IOTA             (ID=8 )  time spent 25.64288091659546 \n",
      "Training model for Litecoin         (ID=9 )  time spent 23.683035135269165 \n",
      "Training model for Maker            (ID=10)  time spent 0.3057277202606201 \n",
      "Training model for Monero           (ID=11)  time spent 25.451738357543945 \n",
      "Training model for Stellar          (ID=12)  time spent 24.332031726837158 \n",
      "Training model for TRON             (ID=13)  time spent 24.37164044380188 \n"
     ]
    }
   ],
   "source": [
    "Xs = {}\n",
    "ys = {}\n",
    "models = {}\n",
    "\n",
    "t1 = time()\n",
    "\n",
    "for asset_id, asset_name in zip(df_asset_details['Asset_ID'], df_asset_details['Asset_Name']):\n",
    "    print(f\"Training model for {asset_name:<16} (ID={asset_id:<2})\", end=\" \")\n",
    "    try:\n",
    "        X, y, model = get_Xy_and_model_for_asset(df_train, asset_id)    \n",
    "        Xs[asset_id], ys[asset_id], models[asset_id] = X, y, model\n",
    "    except:         \n",
    "        Xs[asset_id], ys[asset_id], models[asset_id] = None, None, None \n",
    "    print(f\" time spent {time()-t1} \")\n",
    "    t1= time()"
   ]
  },
  {
   "cell_type": "code",
   "execution_count": 9,
   "id": "cfc31393",
   "metadata": {
    "execution": {
     "iopub.execute_input": "2021-12-01T08:29:43.919578Z",
     "iopub.status.busy": "2021-12-01T08:29:43.918908Z",
     "iopub.status.idle": "2021-12-01T08:29:43.926262Z",
     "shell.execute_reply": "2021-12-01T08:29:43.927095Z"
    },
    "papermill": {
     "duration": 0.03993,
     "end_time": "2021-12-01T08:29:43.927277",
     "exception": false,
     "start_time": "2021-12-01T08:29:43.887347",
     "status": "completed"
    },
    "tags": []
   },
   "outputs": [
    {
     "data": {
      "text/plain": [
       "-0.00041492772"
      ]
     },
     "execution_count": 9,
     "metadata": {},
     "output_type": "execute_result"
    }
   ],
   "source": [
    "# Check the model interface\n",
    "x = get_features(df_train.iloc[1])\n",
    "y_pred = models[0].predict(pd.DataFrame([x]))\n",
    "y_pred[0]"
   ]
  },
  {
   "cell_type": "markdown",
   "id": "ce7a85ba",
   "metadata": {
    "execution": {
     "iopub.status.busy": "2021-11-02T20:57:49.349459Z",
     "iopub.status.idle": "2021-11-02T20:57:49.349757Z",
     "shell.execute_reply": "2021-11-02T20:57:49.349613Z",
     "shell.execute_reply.started": "2021-11-02T20:57:49.349596Z"
    },
    "papermill": {
     "duration": 0.021922,
     "end_time": "2021-12-01T08:29:43.974336",
     "exception": false,
     "start_time": "2021-12-01T08:29:43.952414",
     "status": "completed"
    },
    "tags": []
   },
   "source": [
    "# <span class=\"title-section w3-xxlarge\" id=\"submit\">Submit To Kaggle 🇰</span>\n",
    "<hr>"
   ]
  },
  {
   "cell_type": "code",
   "execution_count": 10,
   "id": "49160eee",
   "metadata": {
    "execution": {
     "iopub.execute_input": "2021-12-01T08:29:44.026437Z",
     "iopub.status.busy": "2021-12-01T08:29:44.025717Z",
     "iopub.status.idle": "2021-12-01T08:29:44.279759Z",
     "shell.execute_reply": "2021-12-01T08:29:44.280433Z"
    },
    "papermill": {
     "duration": 0.283646,
     "end_time": "2021-12-01T08:29:44.280641",
     "exception": false,
     "start_time": "2021-12-01T08:29:43.996995",
     "status": "completed"
    },
    "tags": []
   },
   "outputs": [
    {
     "name": "stdout",
     "output_type": "stream",
     "text": [
      "This version of the API is not optimized and should not be used to estimate the runtime of your code on the hidden test set.\n"
     ]
    }
   ],
   "source": [
    "env = gresearch_crypto.make_env()\n",
    "iter_test = env.iter_test()\n",
    "\n",
    "for i, (df_test, df_pred) in enumerate(iter_test):\n",
    "    for j , row in df_test.iterrows():\n",
    "        if models[row['Asset_ID']] is not None:\n",
    "            try:\n",
    "                model = models[row['Asset_ID']]\n",
    "                x_test = get_features(row)\n",
    "                y_pred = model.predict(pd.DataFrame([x_test]))[0]\n",
    "                df_pred.loc[df_pred['row_id'] == row['row_id'], 'Target'] = y_pred\n",
    "            except:\n",
    "                df_pred.loc[df_pred['row_id'] == row['row_id'], 'Target'] = 0\n",
    "                traceback.print_exc()\n",
    "        else: \n",
    "            df_pred.loc[df_pred['row_id'] == row['row_id'], 'Target'] = 0\n",
    "        \n",
    "    env.predict(df_pred)"
   ]
  },
  {
   "cell_type": "markdown",
   "id": "656c69dc",
   "metadata": {
    "papermill": {
     "duration": 0.02243,
     "end_time": "2021-12-01T08:29:44.328902",
     "exception": false,
     "start_time": "2021-12-01T08:29:44.306472",
     "status": "completed"
    },
    "tags": []
   },
   "source": [
    "<center><img src=\"https://i.ibb.co/2M2MsgH/upvote7.png\" height=400 width=400></center>"
   ]
  },
  {
   "cell_type": "code",
   "execution_count": null,
   "id": "e9a35147",
   "metadata": {
    "papermill": {
     "duration": 0.022321,
     "end_time": "2021-12-01T08:29:44.373434",
     "exception": false,
     "start_time": "2021-12-01T08:29:44.351113",
     "status": "completed"
    },
    "tags": []
   },
   "outputs": [],
   "source": []
  }
 ],
 "metadata": {
  "kernelspec": {
   "display_name": "Python 3",
   "language": "python",
   "name": "python3"
  },
  "language_info": {
   "codemirror_mode": {
    "name": "ipython",
    "version": 3
   },
   "file_extension": ".py",
   "mimetype": "text/x-python",
   "name": "python",
   "nbconvert_exporter": "python",
   "pygments_lexer": "ipython3",
   "version": "3.7.10"
  },
  "papermill": {
   "default_parameters": {},
   "duration": 344.28974,
   "end_time": "2021-12-01T08:29:45.711605",
   "environment_variables": {},
   "exception": null,
   "input_path": "__notebook__.ipynb",
   "output_path": "__notebook__.ipynb",
   "parameters": {},
   "start_time": "2021-12-01T08:24:01.421865",
   "version": "2.3.3"
  }
 },
 "nbformat": 4,
 "nbformat_minor": 5
}
